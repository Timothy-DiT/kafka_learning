{
 "metadata": {
  "orig_nbformat": 2,
  "kernelspec": {
   "name": "python385jvsc74a57bd0916dbcbb3f70747c44a77c7bcd40155683ae19c65e1c03b4aa3499c5328201f1",
   "display_name": "Python 3.8.5 64-bit"
  },
  "metadata": {
   "interpreter": {
    "hash": "916dbcbb3f70747c44a77c7bcd40155683ae19c65e1c03b4aa3499c5328201f1"
   }
  }
 },
 "nbformat": 4,
 "nbformat_minor": 2,
 "cells": [
  {
   "cell_type": "code",
   "execution_count": 1,
   "metadata": {},
   "outputs": [
    {
     "output_type": "error",
     "ename": "SyntaxError",
     "evalue": "invalid syntax (<ipython-input-1-887c1551c427>, line 2)",
     "traceback": [
      "\u001b[0;36m  File \u001b[0;32m\"<ipython-input-1-887c1551c427>\"\u001b[0;36m, line \u001b[0;32m2\u001b[0m\n\u001b[0;31m    from confl\u001b[0m\n\u001b[0m              ^\u001b[0m\n\u001b[0;31mSyntaxError\u001b[0m\u001b[0;31m:\u001b[0m invalid syntax\n"
     ]
    }
   ],
   "source": [
    "import asyncio\n",
    "\n",
    "from confluent_kafka import Consumer, Producer\n",
    "from confluent_kafka.admin import AdminClient, NewTopic\n",
    "\n",
    "BROKER_URL = 'PLAINTEXT://localhost:9092'\n",
    "TOPIC_NAME = 'my-first-topic'\n",
    "\n",
    "async def produce(topic_name):\n",
    "\n",
    "\n",
    "\n",
    "client = AdminClient({'bootstrap.servers': BROKER_URL})\n",
    "topic =  NewTopic(TOPIC_NAME, num_partitions=1, replication_factor=1)\n",
    "\n",
    "client.create_topics([topic])\n",
    "\n",
    "try:\n",
    "    asyncio.run(produce_consume())\n",
    "except KeyboardInterrupt as e:\n",
    "    print(\"shutting down\")\n",
    "finally:\n",
    "    client.delete_topics([topic])"
   ]
  },
  {
   "cell_type": "code",
   "execution_count": null,
   "metadata": {},
   "outputs": [],
   "source": []
  }
 ]
}